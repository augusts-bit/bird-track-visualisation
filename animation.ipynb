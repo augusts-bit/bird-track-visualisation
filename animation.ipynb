{
 "cells": [
  {
   "cell_type": "code",
   "execution_count": 1,
   "metadata": {},
   "outputs": [],
   "source": [
    "# Libraries to load data\n",
    "from pyogrio import read_dataframe # faster than geopandas\n",
    "import geopandas\n",
    "import time\n",
    "import pickle\n",
    "\n",
    "# Import funcs script (make sure to refer to the right relative path)\n",
    "from funcs import *\n",
    "\n",
    "# Import other libraries\n",
    "import os\n",
    "import numpy as np\n",
    "from mpl_toolkits.basemap import Basemap\n",
    "import matplotlib.animation as animation\n",
    "from matplotlib.animation import FuncAnimation\n",
    "import matplotlib.patheffects as PathEffects\n",
    "from IPython.display import HTML\n",
    "import  matplotlib.pyplot as plt\n",
    "import pandas as pd\n",
    "import geopandas as gpd\n",
    "from IPython.display import HTML\n",
    "from cartopy.io.img_tiles import GoogleTiles\n",
    "import cartopy.io.img_tiles as cimgt\n",
    "import matplotlib.image as mpimg\n",
    "import random\n",
    "import tqdm\n",
    "import sys"
   ]
  },
  {
   "cell_type": "markdown",
   "metadata": {
    "id": "DjJlXpsHLaMj"
   },
   "source": [
    "### Load data"
   ]
  },
  {
   "cell_type": "code",
   "execution_count": null,
   "metadata": {
    "executionInfo": {
     "elapsed": 68160,
     "status": "ok",
     "timestamp": 1718095496267,
     "user": {
      "displayName": "Planet Boost",
      "userId": "09323267095591971822"
     },
     "user_tz": -120
    },
    "id": "1QKik2lBcjBv"
   },
   "outputs": [],
   "source": [
    "# read shapefile\n",
    "data = read_dataframe(\"../v_tracking_raw.shp\")\n",
    "data"
   ]
  },
  {
   "cell_type": "code",
   "execution_count": 3,
   "metadata": {},
   "outputs": [],
   "source": [
    "# windfarm data (optional)\n",
    "windfarms = read_dataframe(\"../windfarms.shp\")\n",
    "windfarms = windfarms.to_crs(3857)\n",
    "\n",
    "windfarm_points = read_dataframe(\"../rivm_20230101_windturbines_2022_ashoogte.shp\")\n",
    "windfarm_points = windfarm_points.to_crs(3857)\n",
    "\n",
    "PAWP_OWEZ_LUD_points = read_dataframe(\"../PAWP_OWEZ_LUD.shp\")\n",
    "PAWP_OWEZ_LUD_points = PAWP_OWEZ_LUD_points.to_crs(3857)"
   ]
  },
  {
   "cell_type": "markdown",
   "metadata": {},
   "source": [
    "#### Load data of one bird or multiple\n",
    "Depends on how your dataset looks like, in my case birds have an ID named 'ringnr' --> change functions for appropriate columns if necessary"
   ]
  },
  {
   "cell_type": "code",
   "execution_count": 3,
   "metadata": {
    "executionInfo": {
     "elapsed": 3,
     "status": "ok",
     "timestamp": 1718093888480,
     "user": {
      "displayName": "Planet Boost",
      "userId": "09323267095591971822"
     },
     "user_tz": -120
    },
    "id": "r7AhFRVSkB2l"
   },
   "outputs": [],
   "source": [
    "# Around Africa: 'B-J14'\n",
    "# In windfarms: 'B-J22'\n",
    "\n",
    "# Single logger\n",
    "single_gdf = subset_ringnr(data, ringnr = 'B-J14')\n",
    "# reduced_single_gdf = reduce_by_movement(single_gdf) # reduce by movement \n",
    "reduced_single_gdf = reduce_by_time(single_gdf, resample='6h') # reduce by time\n",
    "reduced_single_gdf = reduce_by_time(reduce_by_movement(single_gdf, significance=0.75), resample='6h') # reduce by time and position\n",
    "\n",
    "single_windfarm_gdf = subset_ringnr(data, ringnr = 'W-J44')\n",
    "reduced_single_windfarm_gdf = reduce_by_movement(single_windfarm_gdf)\n",
    "\n",
    "# Multiple loggers\n",
    "BH75 = reduce_by_time(subset_ringnr(data, ringnr = 'B-H75'), resample='6h')\n",
    "BH92 = reduce_by_time(subset_ringnr(data, ringnr = 'B-H92'), resample='6h')\n",
    "WJ62 = reduce_by_time(subset_ringnr(data, ringnr = 'W-J62'), resample='6h')\n",
    "reduced_multiple_gdf = pd.concat([\n",
    "                          reduce_by_time(subset_ringnr(data, ringnr = 'B-H77'), resample='6h'), # and reduce\n",
    "                          reduce_by_time(subset_ringnr(data, ringnr = 'B-J14'), resample='6h'),\n",
    "                          reduce_by_time(subset_ringnr(data, ringnr = 'B-J18'), resample='6h'),\n",
    "                          reduce_by_time(subset_ringnr(data, ringnr = 'B-J22'), resample='6h'),\n",
    "                          reduce_by_time(subset_ringnr(data, ringnr = 'B-J24'), resample='6h'),\n",
    "                          reduce_by_time(subset_ringnr(data, ringnr = 'B-J26'), resample='6h'),\n",
    "                          reduce_by_time(subset_ringnr(data, ringnr = 'B-J27'), resample='6h'),\n",
    "                          reduce_by_time(subset_ringnr(data, ringnr = 'B-J32'), resample='6h'),\n",
    "                          reduce_by_time(subset_ringnr(data, ringnr = 'W-J44'), resample='6h'),\n",
    "                          reduce_by_time(subset_ringnr(data, ringnr = 'W-J59'), resample='6h'),\n",
    "                          reduce_by_time(subset_ringnr(data, ringnr = 'W-J63'), resample='6h'),\n",
    "                          reduce_by_time(subset_ringnr(data, ringnr = 'W-J72'), resample='6h'),\n",
    "                          BH75[~((BH75['date_time'] >= '2021-01-01') & (BH75['date_time'] < '2022-01-01'))],\n",
    "                          BH92[(BH92['date_time'] < '2022-07-01')],\n",
    "                          WJ62[(WJ62['date_time'] < '2022-07-01')]])\n"
   ]
  },
  {
   "cell_type": "code",
   "execution_count": 4,
   "metadata": {},
   "outputs": [],
   "source": [
    "# Only between time frame\n",
    "# data_summer2021 = data[~((data['date_time'] >= '2021-06-01') & (data['date_time'] < '2021-09-01'))]\n",
    "\n",
    "# All loggers\n",
    "ringnumbers = data['ringnr'].unique().tolist()\n",
    "all_reduce_list = []\n",
    "for ringnr in ringnumbers:\n",
    "    all_reduce_list.append(reduce_by_time(subset_ringnr(data, ringnr = ringnr), resample='6min'))\n",
    "\n",
    "reduced_all_gdf = pd.concat(all_reduce_list)\n",
    "reduced_all_gdf = reduced_all_gdf[(reduced_all_gdf['date_time'] >= '2021-05-15') & (reduced_all_gdf['date_time'] < '2021-07-01') & \n",
    "    (reduced_all_gdf['soort'] == 'Grote stern')]"
   ]
  },
  {
   "cell_type": "markdown",
   "metadata": {},
   "source": [
    "### Animate"
   ]
  },
  {
   "cell_type": "code",
   "execution_count": null,
   "metadata": {},
   "outputs": [],
   "source": [
    "# Plot single\n",
    "plot_animation_single(reduced_single_gdf, frames_between_points = 10, interval = 15)"
   ]
  },
  {
   "cell_type": "code",
   "execution_count": null,
   "metadata": {},
   "outputs": [],
   "source": [
    "# Plot multiple\n",
    "plot_animation_multiple(reduced_multiple_gdf)"
   ]
  },
  {
   "cell_type": "code",
   "execution_count": null,
   "metadata": {},
   "outputs": [],
   "source": [
    "plot_animation_multiple_stationary(reduced_all_gdf, zoom_level = 10, extent_margin = 0.45, lon_centre = 4.5, lat_centre = 52.75, with_tail = False,\n",
    "                                    plot_windfarms = True, windfarms1 = windfarms, windfarms2 = PAWP_OWEZ_LUD_points)"
   ]
  },
  {
   "cell_type": "code",
   "execution_count": null,
   "metadata": {},
   "outputs": [],
   "source": [
    "plot_animation_multiple(reduced_all_gdf)"
   ]
  },
  {
   "cell_type": "code",
   "execution_count": null,
   "metadata": {},
   "outputs": [],
   "source": [
    "# Plot single on moving globe basemap\n",
    "plot_animation_moving_globe(reduced_single_gdf, extent_margin = 35, frames_between_points = 20, interval = 15, zoom_level = 3, plot_windfarms=False, windfarms=None)"
   ]
  },
  {
   "cell_type": "code",
   "execution_count": null,
   "metadata": {},
   "outputs": [],
   "source": [
    "# Plot single on moving basemap\n",
    "plot_animation_moving(reduced_single_gdf, extent_margin = 4, frames_between_points = 10, interval = 15, zoom_level = 7, plot_windfarms=False, windfarms=None)"
   ]
  }
 ],
 "metadata": {
  "colab": {
   "authorship_tag": "ABX9TyPiZta/LDTRbnWViMQvv+dI",
   "provenance": []
  },
  "kernelspec": {
   "display_name": "Python 3 (ipykernel)",
   "language": "python",
   "name": "python3"
  },
  "language_info": {
   "codemirror_mode": {
    "name": "ipython",
    "version": 3
   },
   "file_extension": ".py",
   "mimetype": "text/x-python",
   "name": "python",
   "nbconvert_exporter": "python",
   "pygments_lexer": "ipython3",
   "version": "3.12.2"
  }
 },
 "nbformat": 4,
 "nbformat_minor": 4
}
